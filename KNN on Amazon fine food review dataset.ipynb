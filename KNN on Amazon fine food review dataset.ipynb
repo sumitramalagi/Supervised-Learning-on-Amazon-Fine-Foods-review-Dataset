{
 "cells": [
  {
   "cell_type": "markdown",
   "metadata": {},
   "source": [
    "# K-NN on Amazon Food review Dataset"
   ]
  },
  {
   "cell_type": "markdown",
   "metadata": {},
   "source": [
    "K-NN is a supervied machine learning algorithm that can be used to predict polarity of reviews in amazon fine foods dataset obtained from kaggle. (https://www.kaggle.com/snap/amazon-fine-food-reviews)\n",
    "\n",
    "In this ipython notebook,following steps are performed:\n",
    "    1. Load cleaned and preprocessed data\n",
    "    2. Convert text to vector using one of the following methods\n",
    "        a.bag of words\n",
    "        b.tf-idf\n",
    "        c.average word2vec\n",
    "        d.tf-idf word2vec\n",
    "    3. Apply KNN\n",
    "        a. normalise data\n",
    "        b. divide data into test and train\n",
    "        c. find the optimal K using 10 fold cross validation\n",
    "        d. apply brute force method to find K nearest neighbours\n",
    "        e. use Kd-tree method to kind K nearest neighbours\n",
    "    4. Performance measurement\n",
    "        a. accuracy\n",
    "        b. confusion matrix\n",
    "        c. presicion, recall and f1-score"
   ]
  },
  {
   "cell_type": "markdown",
   "metadata": {},
   "source": [
    "1.Load data"
   ]
  },
  {
   "cell_type": "code",
   "execution_count": 1,
   "metadata": {},
   "outputs": [],
   "source": [
    "%matplotlib inline\n",
    "\n",
    "import sqlite3\n",
    "import pandas as pd\n",
    "import numpy as np\n",
    "import matplotlib.pyplot as plt\n",
    "import seaborn as sns\n",
    "import warnings\n",
    "warnings.filterwarnings(\"ignore\")\n",
    "warnings.filterwarnings(\"ignore\", category=DeprecationWarning) \n",
    "\n",
    "#Using sqlite3 to retrieve data from sqlite file\n",
    "con = sqlite3.connect(r'C:\\Users\\Admin\\Downloads\\final.sqlite')\n",
    "\n",
    "#Read data from the sqlite file\n",
    "data = pd.read_sql_query(\"\"\"\n",
    "SELECT * FROM Reviews \n",
    "\"\"\",con)\n"
   ]
  },
  {
   "cell_type": "code",
   "execution_count": 2,
   "metadata": {},
   "outputs": [],
   "source": [
    "# data.drop('index', inplace=True, axis=1)\n",
    "# data = data[data.index != 258456]\n",
    "data.sort_values('Time',inplace=True,ascending=False)\n",
    "# data.reset_index(drop=True, inplace=True)\n",
    "#sampled_data = cleaned_data.sample(frac=0.275,random_state=1), time series split function can also be used.\n",
    "sampled_data=data[:12000]"
   ]
  },
  {
   "cell_type": "code",
   "execution_count": 3,
   "metadata": {},
   "outputs": [],
   "source": [
    "#We use 70% of data for training and 30% of data for test\n",
    "import math\n",
    "sampled_data.sort_values('Time',inplace=True,ascending=True) \n",
    "\n",
    "X_train =  sampled_data[:math.ceil(len(sampled_data)*.7)] \n",
    "X_test = sampled_data[math.ceil(len(sampled_data)*.3):]\n",
    "y_train = sampled_data['Score'][:math.ceil(len(sampled_data)*.7)]\n",
    "y_test =  sampled_data['Score'][math.ceil(len(sampled_data)*.3):]"
   ]
  },
  {
   "cell_type": "markdown",
   "metadata": {},
   "source": [
    "2.Convert text to vector"
   ]
  },
  {
   "cell_type": "markdown",
   "metadata": {},
   "source": [
    "Bag of words"
   ]
  },
  {
   "cell_type": "code",
   "execution_count": 4,
   "metadata": {},
   "outputs": [],
   "source": [
    "from sklearn.feature_extraction.text import CountVectorizer\n",
    "\n",
    "count_vect = CountVectorizer() \n",
    "bow_model = count_vect.fit(X_train['CleanedText'])\n",
    "final_bow_train = bow_model.transform(X_train['CleanedText'])\n",
    "final_bow_test = bow_model.transform(X_test['CleanedText'])"
   ]
  },
  {
   "cell_type": "markdown",
   "metadata": {},
   "source": [
    "3.Apply K-NN"
   ]
  },
  {
   "cell_type": "markdown",
   "metadata": {},
   "source": [
    "3.1 Normalise data"
   ]
  },
  {
   "cell_type": "code",
   "execution_count": 5,
   "metadata": {},
   "outputs": [],
   "source": [
    "from sklearn.preprocessing import StandardScaler\n",
    "\n",
    "normalised_bow_train = StandardScaler(with_mean=False).fit_transform(final_bow_train)\n",
    "normalised_bow_test = StandardScaler(with_mean=False).fit_transform(final_bow_test)"
   ]
  },
  {
   "cell_type": "markdown",
   "metadata": {},
   "source": [
    "3.2 Find optimal k using 10 fold cross-validation"
   ]
  },
  {
   "cell_type": "code",
   "execution_count": 7,
   "metadata": {},
   "outputs": [],
   "source": [
    "from sklearn.cross_validation import cross_val_score\n",
    "\n",
    "def find_optimal_k(X_train,y_train, kvalues):\n",
    "   \n",
    "    neighbors = list(filter(lambda x: x % 2 != 0, kvalues))\n",
    "\n",
    "    # List to store cross validation data\n",
    "    cv_scores = []\n",
    "\n",
    "    # perform 10-fold cross validation\n",
    "    for k in neighbors:\n",
    "        knn = KNeighborsClassifier(n_neighbors=k)\n",
    "        score = cross_val_score(knn, X_train, y_train, cv=10, scoring='accuracy')\n",
    "        cv_scores.append(score.mean())\n",
    "\n",
    "    # finding error to find optimal K\n",
    "    error = [1 - x for x in cv_scores]\n",
    "\n",
    "    # determining best k\n",
    "    optimal_k = neighbors[error.index(min(error))]\n",
    "    print('\\nThe optimal number of neighbors is %d.' % optimal_k)\n",
    "    \n",
    "    \n",
    "    sns.set_style(\"darkgrid\")\n",
    "    plt.plot(neighbors,error)\n",
    "    plt.xlabel(\"K Nearest Neighbours\")\n",
    "    plt.ylabel(\"Error\")\n",
    "    plt.title(\"Accuracy for different k values\")\n",
    "    plt.show()\n",
    "      \n",
    "    return optimal_k"
   ]
  },
  {
   "cell_type": "code",
   "execution_count": 8,
   "metadata": {
    "scrolled": true
   },
   "outputs": [
    {
     "name": "stdout",
     "output_type": "stream",
     "text": [
      "\n",
      "The optimal number of neighbors is 5.\n"
     ]
    },
    {
     "data": {
      "image/png": "[encoded data removed]",
      "text/plain": [
       "<matplotlib.figure.Figure at 0x2a95a45b9e8>"
      ]
     },
     "metadata": {},
     "output_type": "display_data"
    }
   ],
   "source": [
    "from sklearn.neighbors import KNeighborsClassifier\n",
    "kvalues = list(range(0,50))\n",
    "\n",
    "optimal_k = find_optimal_k(normalised_bow_train ,y_train,kvalues)"
   ]
  },
  {
   "cell_type": "markdown",
   "metadata": {},
   "source": [
    "3.3 Predict polarity using brute force method for k-nn"
   ]
  },
  {
   "cell_type": "code",
   "execution_count": 9,
   "metadata": {},
   "outputs": [],
   "source": [
    "knn = KNeighborsClassifier(n_neighbors=optimal_k)\n",
    "knn.fit(normalised_bow_train, y_train)\n",
    "brute_pred = knn.predict(normalised_bow_test)"
   ]
  },
  {
   "cell_type": "markdown",
   "metadata": {},
   "source": [
    "3.4 Predict polarity using kd-tree method"
   ]
  },
  {
   "cell_type": "code",
   "execution_count": 10,
   "metadata": {},
   "outputs": [],
   "source": [
    "knn = KNeighborsClassifier(n_neighbors=optimal_k,algorithm='kd_tree')\n",
    "knn.fit(normalised_bow_train,y_train)\n",
    "kd_pred = knn.predict(normalised_bow_test)"
   ]
  },
  {
   "cell_type": "markdown",
   "metadata": {},
   "source": [
    "4.Performance measurement"
   ]
  },
  {
   "cell_type": "code",
   "execution_count": 11,
   "metadata": {},
   "outputs": [],
   "source": [
    "#Metrics\n",
    "from sklearn.metrics import accuracy_score\n",
    "from sklearn.metrics import confusion_matrix\n",
    "from sklearn.metrics import precision_score\n",
    "from sklearn.metrics import f1_score\n",
    "from sklearn.metrics import recall_score"
   ]
  },
  {
   "cell_type": "markdown",
   "metadata": {},
   "source": [
    "performance measurement on brute force method"
   ]
  },
  {
   "cell_type": "code",
   "execution_count": 12,
   "metadata": {
    "scrolled": true
   },
   "outputs": [
    {
     "name": "stdout",
     "output_type": "stream",
     "text": [
      "Confusion Matrix of test set:\n"
     ]
    },
    {
     "data": {
      "text/plain": [
       "<matplotlib.axes._subplots.AxesSubplot at 0x2a964230438>"
      ]
     },
     "execution_count": 12,
     "metadata": {},
     "output_type": "execute_result"
    },
    {
     "data": {
      "image/png": "[encoded data removed]",
      "text/plain": [
       "<matplotlib.figure.Figure at 0x2a961845a20>"
      ]
     },
     "metadata": {},
     "output_type": "display_data"
    }
   ],
   "source": [
    "import scikitplot.metrics as skplt\n",
    "print(\"Confusion Matrix of test set:\")\n",
    "skplt.plot_confusion_matrix(y_test ,brute_pred)"
   ]
  },
  {
   "cell_type": "code",
   "execution_count": 13,
   "metadata": {},
   "outputs": [
    {
     "name": "stdout",
     "output_type": "stream",
     "text": [
      "Accuracy on test set: 85.488%\n",
      "Precision on test set: 0.855\n",
      "Recall on test set: 0.997\n",
      "F1-Score on test set: 0.920\n"
     ]
    }
   ],
   "source": [
    "print(\"Accuracy on test set: %0.3f%%\"%(accuracy_score(y_test, brute_pred)*100))\n",
    "print(\"Precision on test set: %0.3f\"%(precision_score(y_test, brute_pred)))\n",
    "print(\"Recall on test set: %0.3f\"%(recall_score(y_test, brute_pred)))\n",
    "print(\"F1-Score on test set: %0.3f\"%(f1_score(y_test, brute_pred)))"
   ]
  },
  {
   "cell_type": "markdown",
   "metadata": {},
   "source": [
    "performance measurement on kd-tree method"
   ]
  },
  {
   "cell_type": "code",
   "execution_count": 14,
   "metadata": {
    "scrolled": true
   },
   "outputs": [
    {
     "name": "stdout",
     "output_type": "stream",
     "text": [
      "Confusion Matrix of test set:\n"
     ]
    },
    {
     "data": {
      "text/plain": [
       "<matplotlib.axes._subplots.AxesSubplot at 0x2a972b579b0>"
      ]
     },
     "execution_count": 14,
     "metadata": {},
     "output_type": "execute_result"
    },
    {
     "data": {
      "image/png": "[encoded data removed]",
      "text/plain": [
       "<matplotlib.figure.Figure at 0x2a964d1be80>"
      ]
     },
     "metadata": {},
     "output_type": "display_data"
    }
   ],
   "source": [
    "print(\"Confusion Matrix of test set:\")\n",
    "skplt.plot_confusion_matrix(y_test ,kd_pred)"
   ]
  },
  {
   "cell_type": "code",
   "execution_count": 15,
   "metadata": {},
   "outputs": [
    {
     "name": "stdout",
     "output_type": "stream",
     "text": [
      "Accuracy on test set: 85.488%\n",
      "Precision on test set: 0.855\n",
      "Recall on test set: 0.997\n",
      "F1-Score on test set: 0.920\n"
     ]
    }
   ],
   "source": [
    "print(\"Accuracy on test set: %0.3f%%\"%(accuracy_score(y_test, kd_pred)*100))\n",
    "print(\"Precision on test set: %0.3f\"%(precision_score(y_test, kd_pred)))\n",
    "print(\"Recall on test set: %0.3f\"%(recall_score(y_test, kd_pred)))\n",
    "print(\"F1-Score on test set: %0.3f\"%(f1_score(y_test, kd_pred)))"
   ]
  },
  {
   "cell_type": "markdown",
   "metadata": {},
   "source": [
    "TF-IDF"
   ]
  },
  {
   "cell_type": "code",
   "execution_count": 16,
   "metadata": {},
   "outputs": [],
   "source": [
    "from sklearn.feature_extraction.text import TfidfTransformer\n",
    "from sklearn.feature_extraction.text import TfidfVectorizer\n",
    "\n",
    "tf_idf_vec = TfidfVectorizer()\n",
    "tfidf_model = tf_idf_vec.fit(X_train['CleanedText'])\n",
    "final_tfidf_train = tfidf_model.transform(X_train['CleanedText'])\n",
    "final_tfidf_test = tfidf_model.transform(X_test['CleanedText'])"
   ]
  },
  {
   "cell_type": "code",
   "execution_count": 17,
   "metadata": {},
   "outputs": [],
   "source": [
    "normalised_tfidf_train = StandardScaler(with_mean=False).fit_transform(final_tfidf_train)\n",
    "normalised_tfidf_test = StandardScaler(with_mean=False).fit_transform(final_tfidf_test)"
   ]
  },
  {
   "cell_type": "code",
   "execution_count": 18,
   "metadata": {},
   "outputs": [
    {
     "name": "stdout",
     "output_type": "stream",
     "text": [
      "\n",
      "The optimal number of neighbors is 3.\n"
     ]
    },
    {
     "data": {
      "image/png": "[encoded data removed]",
      "text/plain": [
       "<matplotlib.figure.Figure at 0x2a965984cf8>"
      ]
     },
     "metadata": {},
     "output_type": "display_data"
    }
   ],
   "source": [
    "kvalues = list(range(0,50))\n",
    "\n",
    "optimal_k = find_optimal_k(normalised_tfidf_train ,y_train,kvalues)"
   ]
  },
  {
   "cell_type": "code",
   "execution_count": 19,
   "metadata": {},
   "outputs": [],
   "source": [
    "knn = KNeighborsClassifier(n_neighbors=optimal_k)\n",
    "knn.fit(normalised_tfidf_train, y_train)\n",
    "brute_pred = knn.predict(normalised_tfidf_test)"
   ]
  },
  {
   "cell_type": "code",
   "execution_count": 20,
   "metadata": {},
   "outputs": [],
   "source": [
    "knn = KNeighborsClassifier(n_neighbors=optimal_k,algorithm='kd_tree')\n",
    "knn.fit(normalised_tfidf_train,y_train)\n",
    "kd_pred = knn.predict(normalised_tfidf_test)"
   ]
  },
  {
   "cell_type": "code",
   "execution_count": 21,
   "metadata": {},
   "outputs": [
    {
     "name": "stdout",
     "output_type": "stream",
     "text": [
      "Confusion Matrix of test set:\n"
     ]
    },
    {
     "data": {
      "text/plain": [
       "<matplotlib.axes._subplots.AxesSubplot at 0x2a968ff7fd0>"
      ]
     },
     "execution_count": 21,
     "metadata": {},
     "output_type": "execute_result"
    },
    {
     "data": {
      "image/png": "[encoded data removed]",
      "text/plain": [
       "<matplotlib.figure.Figure at 0x2a9659843c8>"
      ]
     },
     "metadata": {},
     "output_type": "display_data"
    }
   ],
   "source": [
    "print(\"Confusion Matrix of test set:\")\n",
    "skplt.plot_confusion_matrix(y_test ,brute_pred)"
   ]
  },
  {
   "cell_type": "code",
   "execution_count": 22,
   "metadata": {},
   "outputs": [
    {
     "name": "stdout",
     "output_type": "stream",
     "text": [
      "Accuracy on test set: 85.333%\n",
      "Precision on test set: 0.853\n",
      "Recall on test set: 0.998\n",
      "F1-Score on test set: 0.920\n"
     ]
    }
   ],
   "source": [
    "print(\"Accuracy on test set: %0.3f%%\"%(accuracy_score(y_test, brute_pred)*100))\n",
    "print(\"Precision on test set: %0.3f\"%(precision_score(y_test, brute_pred)))\n",
    "print(\"Recall on test set: %0.3f\"%(recall_score(y_test, brute_pred)))\n",
    "print(\"F1-Score on test set: %0.3f\"%(f1_score(y_test, brute_pred)))"
   ]
  },
  {
   "cell_type": "code",
   "execution_count": 23,
   "metadata": {},
   "outputs": [
    {
     "name": "stdout",
     "output_type": "stream",
     "text": [
      "Confusion Matrix of test set:\n"
     ]
    },
    {
     "data": {
      "text/plain": [
       "<matplotlib.axes._subplots.AxesSubplot at 0x2a964d1bef0>"
      ]
     },
     "execution_count": 23,
     "metadata": {},
     "output_type": "execute_result"
    },
    {
     "data": {
      "image/png": "[encoded data removed]",
      "text/plain": [
       "<matplotlib.figure.Figure at 0x2a96ef90128>"
      ]
     },
     "metadata": {},
     "output_type": "display_data"
    }
   ],
   "source": [
    "print(\"Confusion Matrix of test set:\")\n",
    "skplt.plot_confusion_matrix(y_test ,kd_pred)"
   ]
  },
  {
   "cell_type": "code",
   "execution_count": 24,
   "metadata": {},
   "outputs": [
    {
     "name": "stdout",
     "output_type": "stream",
     "text": [
      "Accuracy on test set: 85.333%\n",
      "Precision on test set: 0.853\n",
      "Recall on test set: 0.998\n",
      "F1-Score on test set: 0.920\n"
     ]
    }
   ],
   "source": [
    "print(\"Accuracy on test set: %0.3f%%\"%(accuracy_score(y_test, kd_pred)*100))\n",
    "print(\"Precision on test set: %0.3f\"%(precision_score(y_test, kd_pred)))\n",
    "print(\"Recall on test set: %0.3f\"%(recall_score(y_test, kd_pred)))\n",
    "print(\"F1-Score on test set: %0.3f\"%(f1_score(y_test, kd_pred)))"
   ]
  },
  {
   "cell_type": "markdown",
   "metadata": {},
   "source": [
    "Avg w2v"
   ]
  },
  {
   "cell_type": "code",
   "execution_count": 25,
   "metadata": {},
   "outputs": [],
   "source": [
    "from gensim.models import Word2Vec\n",
    "from gensim.models import KeyedVectors\n",
    "import gensim\n",
    "import pickle"
   ]
  },
  {
   "cell_type": "code",
   "execution_count": 26,
   "metadata": {},
   "outputs": [],
   "source": [
    "import re\n",
    "import string\n",
    "import nltk\n",
    "from nltk.corpus import stopwords\n",
    "\n",
    "stop = set(stopwords.words('english')) #set of stopwords\n",
    "def cleanhtml(sentence): #function to clean the word of any html-tags\n",
    "    cleanr = re.compile('<.*?>')\n",
    "    cleantext = re.sub(cleanr, ' ', sentence)\n",
    "    return cleantext\n",
    "def cleanpunc(sentence): #function to clean the word of any punctuation or special characters\n",
    "    cleaned = re.sub(r'[?|!|\\'|\"|#]',r'',sentence)\n",
    "    cleaned = re.sub(r'[.|,|)|(|\\|/]',r' ',cleaned)\n",
    "    return  cleaned"
   ]
  },
  {
   "cell_type": "code",
   "execution_count": 27,
   "metadata": {},
   "outputs": [],
   "source": [
    "i=0\n",
    "str1=''\n",
    "list_of_sent_train=[]\n",
    "final_string_for_tfidf_train = []\n",
    "for sent in X_train['Text'].values:\n",
    "    filtered_sentence=[]\n",
    "    sent=cleanhtml(sent)\n",
    "    str1 = ''\n",
    "    for w in sent.split():\n",
    "        for cleaned_words in cleanpunc(w).split():\n",
    "            if((cleaned_words.isalpha()) & (cleaned_words.lower() not in stop)):    \n",
    "                filtered_sentence.append(cleaned_words.lower())\n",
    "                str1 += \" \"+cleaned_words.lower() \n",
    "            else:\n",
    "                continue\n",
    "  \n",
    "    list_of_sent_train.append(filtered_sentence)\n",
    "    final_string_for_tfidf_train.append((str1).strip())"
   ]
  },
  {
   "cell_type": "code",
   "execution_count": 28,
   "metadata": {},
   "outputs": [],
   "source": [
    "i=0\n",
    "str1=''\n",
    "list_of_sent=[]\n",
    "final_string_for_tfidf = []\n",
    "for sent in sampled_data['Text'].values:\n",
    "    filtered_sentence=[]\n",
    "    sent=cleanhtml(sent)\n",
    "    str1 = ''\n",
    "    for w in sent.split():\n",
    "        for cleaned_words in cleanpunc(w).split():\n",
    "            if((cleaned_words.isalpha()) & (cleaned_words.lower() not in stop)):    \n",
    "                filtered_sentence.append(cleaned_words.lower())\n",
    "                str1 += \" \"+cleaned_words.lower() \n",
    "            else:\n",
    "                continue\n",
    "  \n",
    "    list_of_sent.append(filtered_sentence)\n",
    "    final_string_for_tfidf.append((str1).strip())"
   ]
  },
  {
   "cell_type": "code",
   "execution_count": 29,
   "metadata": {},
   "outputs": [],
   "source": [
    "w2v_model=gensim.models.Word2Vec(list_of_sent_train,min_count=5,size=50, workers=2)"
   ]
  },
  {
   "cell_type": "code",
   "execution_count": 30,
   "metadata": {},
   "outputs": [],
   "source": [
    "sent_vectors = []; \n",
    "for sent in list_of_sent: \n",
    "    sent_vec = np.zeros(50)\n",
    "    cnt_words =0; \n",
    "    for word in sent: \n",
    "        try:\n",
    "            vec = w2v_model.wv[word]\n",
    "            sent_vec += vec\n",
    "            cnt_words += 1\n",
    "        except:\n",
    "            pass\n",
    "    sent_vec /= cnt_words\n",
    "    sent_vectors.append(sent_vec)"
   ]
  },
  {
   "cell_type": "code",
   "execution_count": 31,
   "metadata": {},
   "outputs": [],
   "source": [
    "X_train = sent_vectors[:math.ceil(len(sampled_data)*.7)]  #final_w2v_count\n",
    "X_test = sent_vectors[math.ceil(len(sampled_data)*.3):] #final_w2v_count"
   ]
  },
  {
   "cell_type": "code",
   "execution_count": null,
   "metadata": {},
   "outputs": [],
   "source": [
    "# np.isnan(X_train)\n",
    "# np.isnan(X_test)\n",
    "# np.where(np.isnan(X_train))\n",
    "# np.where(np.isnan(X_test))"
   ]
  },
  {
   "cell_type": "code",
   "execution_count": 32,
   "metadata": {},
   "outputs": [],
   "source": [
    "X_train=np.nan_to_num(X_train)\n",
    "X_test=np.nan_to_num(X_test)"
   ]
  },
  {
   "cell_type": "code",
   "execution_count": 33,
   "metadata": {},
   "outputs": [],
   "source": [
    "from sklearn.preprocessing import StandardScaler\n",
    "normalised_w2v_train = StandardScaler(with_mean=False).fit_transform(X_train)\n",
    "normalised_w2v_test = StandardScaler(with_mean=False).fit_transform(X_test)"
   ]
  },
  {
   "cell_type": "code",
   "execution_count": 34,
   "metadata": {},
   "outputs": [
    {
     "name": "stdout",
     "output_type": "stream",
     "text": [
      "\n",
      "The optimal number of neighbors is 45.\n"
     ]
    },
    {
     "data": {
      "image/png": "[encoded data removed]",
      "text/plain": [
       "<matplotlib.figure.Figure at 0x2a97a0d47b8>"
      ]
     },
     "metadata": {},
     "output_type": "display_data"
    }
   ],
   "source": [
    "kvalues = list(range(0,50))\n",
    "\n",
    "optimal_k = find_optimal_k(normalised_w2v_train ,y_train,kvalues)"
   ]
  },
  {
   "cell_type": "code",
   "execution_count": 35,
   "metadata": {},
   "outputs": [],
   "source": [
    "knn = KNeighborsClassifier(n_neighbors=optimal_k)\n",
    "knn.fit(normalised_w2v_train, y_train)\n",
    "brute_pred = knn.predict(normalised_w2v_test)"
   ]
  },
  {
   "cell_type": "code",
   "execution_count": 36,
   "metadata": {},
   "outputs": [],
   "source": [
    "knn = KNeighborsClassifier(n_neighbors=optimal_k,algorithm='kd_tree')\n",
    "knn.fit(normalised_w2v_train,y_train)\n",
    "kd_pred = knn.predict(normalised_w2v_test)"
   ]
  },
  {
   "cell_type": "code",
   "execution_count": 37,
   "metadata": {
    "scrolled": true
   },
   "outputs": [
    {
     "name": "stdout",
     "output_type": "stream",
     "text": [
      "Confusion Matrix of test set:\n"
     ]
    },
    {
     "data": {
      "text/plain": [
       "<matplotlib.axes._subplots.AxesSubplot at 0x2a90425b208>"
      ]
     },
     "execution_count": 37,
     "metadata": {},
     "output_type": "execute_result"
    },
    {
     "data": {
      "image/png": "[encoded data removed]",
      "text/plain": [
       "<matplotlib.figure.Figure at 0x2a904fc5978>"
      ]
     },
     "metadata": {},
     "output_type": "display_data"
    }
   ],
   "source": [
    "print(\"Confusion Matrix of test set:\")\n",
    "skplt.plot_confusion_matrix(y_test ,brute_pred)"
   ]
  },
  {
   "cell_type": "code",
   "execution_count": 38,
   "metadata": {},
   "outputs": [
    {
     "name": "stdout",
     "output_type": "stream",
     "text": [
      "Accuracy on test set: 84.405%\n",
      "Precision on test set: 0.846\n",
      "Recall on test set: 0.997\n",
      "F1-Score on test set: 0.915\n"
     ]
    }
   ],
   "source": [
    "print(\"Accuracy on test set: %0.3f%%\"%(accuracy_score(y_test, brute_pred)*100))\n",
    "print(\"Precision on test set: %0.3f\"%(precision_score(y_test, brute_pred)))\n",
    "print(\"Recall on test set: %0.3f\"%(recall_score(y_test, brute_pred)))\n",
    "print(\"F1-Score on test set: %0.3f\"%(f1_score(y_test, brute_pred)))"
   ]
  },
  {
   "cell_type": "code",
   "execution_count": 39,
   "metadata": {
    "scrolled": true
   },
   "outputs": [
    {
     "name": "stdout",
     "output_type": "stream",
     "text": [
      "Confusion Matrix of test set:\n"
     ]
    },
    {
     "data": {
      "text/plain": [
       "<matplotlib.axes._subplots.AxesSubplot at 0x2a904feddd8>"
      ]
     },
     "execution_count": 39,
     "metadata": {},
     "output_type": "execute_result"
    },
    {
     "data": {
      "image/png": "[encoded data removed]",
      "text/plain": [
       "<matplotlib.figure.Figure at 0x2a90501ef28>"
      ]
     },
     "metadata": {},
     "output_type": "display_data"
    }
   ],
   "source": [
    "print(\"Confusion Matrix of test set:\")\n",
    "skplt.plot_confusion_matrix(y_test ,kd_pred)"
   ]
  },
  {
   "cell_type": "code",
   "execution_count": 40,
   "metadata": {},
   "outputs": [
    {
     "name": "stdout",
     "output_type": "stream",
     "text": [
      "Accuracy on test set: 84.405%\n",
      "Precision on test set: 0.846\n",
      "Recall on test set: 0.997\n",
      "F1-Score on test set: 0.915\n"
     ]
    }
   ],
   "source": [
    "print(\"Accuracy on test set: %0.3f%%\"%(accuracy_score(y_test, kd_pred)*100))\n",
    "print(\"Precision on test set: %0.3f\"%(precision_score(y_test, kd_pred)))\n",
    "print(\"Recall on test set: %0.3f\"%(recall_score(y_test, kd_pred)))\n",
    "print(\"F1-Score on test set: %0.3f\"%(f1_score(y_test, kd_pred)))"
   ]
  },
  {
   "cell_type": "markdown",
   "metadata": {},
   "source": [
    "tf-idf weighted word2vec"
   ]
  },
  {
   "cell_type": "code",
   "execution_count": 41,
   "metadata": {},
   "outputs": [],
   "source": [
    "tf_idf_w2v = TfidfVectorizer()\n",
    "tfidf_model = tf_idf_w2v.fit(final_string_for_tfidf_train)\n",
    "final_tfidf_w=tfidf_model.transform(final_string_for_tfidf)"
   ]
  },
  {
   "cell_type": "code",
   "execution_count": 42,
   "metadata": {},
   "outputs": [],
   "source": [
    "tfidf_feat = tf_idf_w2v.get_feature_names()\n",
    "\n",
    "\n",
    "tfidf_sent_vectors = [];\n",
    "row=0;\n",
    "for sent in list_of_sent:  \n",
    "    sent_vec = np.zeros(50) \n",
    "    weight_sum =0;\n",
    "    for word in sent:\n",
    "        try:\n",
    "            vec = w2v_model.wv[word]\n",
    "            tf_idf = final_tfidf_w[row, tfidf_feat.index(word)]\n",
    "            sent_vec += (vec * tf_idf)\n",
    "            weight_sum += tf_idf\n",
    "        except Exception as e: \n",
    "            pass #print(e)\n",
    "            \n",
    "    try:\n",
    "        sent_vec /= weight_sum\n",
    "    except:\n",
    "        print(e)\n",
    "        \n",
    "    tfidf_sent_vectors.append(sent_vec)\n",
    "    row += 1"
   ]
  },
  {
   "cell_type": "code",
   "execution_count": 43,
   "metadata": {},
   "outputs": [],
   "source": [
    "X_train = tfidf_sent_vectors[:math.ceil(len(sampled_data)*.7)]  #final_w2v_count\n",
    "X_test = tfidf_sent_vectors[math.ceil(len(sampled_data)*.3):] #final_w2v_count"
   ]
  },
  {
   "cell_type": "code",
   "execution_count": 45,
   "metadata": {},
   "outputs": [],
   "source": [
    "X_train=np.nan_to_num(X_train)\n",
    "X_test=np.nan_to_num(X_test)"
   ]
  },
  {
   "cell_type": "code",
   "execution_count": 46,
   "metadata": {},
   "outputs": [
    {
     "name": "stdout",
     "output_type": "stream",
     "text": [
      "\n",
      "The optimal number of neighbors is 37.\n"
     ]
    },
    {
     "data": {
      "image/png": "[encoded data removed]",
      "text/plain": [
       "<matplotlib.figure.Figure at 0x2a9002a3da0>"
      ]
     },
     "metadata": {},
     "output_type": "display_data"
    }
   ],
   "source": [
    "kvalues = list(range(0,50))\n",
    "\n",
    "optimal_k = find_optimal_k(X_train ,y_train,kvalues)"
   ]
  },
  {
   "cell_type": "code",
   "execution_count": 47,
   "metadata": {},
   "outputs": [],
   "source": [
    "knn = KNeighborsClassifier(n_neighbors=optimal_k)\n",
    "knn.fit(X_train, y_train)\n",
    "brute_pred = knn.predict(X_test)"
   ]
  },
  {
   "cell_type": "code",
   "execution_count": 48,
   "metadata": {},
   "outputs": [],
   "source": [
    "knn = KNeighborsClassifier(n_neighbors=optimal_k,algorithm='kd_tree')\n",
    "knn.fit(X_train,y_train)\n",
    "kd_pred = knn.predict(X_test)"
   ]
  },
  {
   "cell_type": "code",
   "execution_count": 49,
   "metadata": {
    "scrolled": true
   },
   "outputs": [
    {
     "name": "stdout",
     "output_type": "stream",
     "text": [
      "Confusion Matrix of test set:\n"
     ]
    },
    {
     "data": {
      "text/plain": [
       "<matplotlib.axes._subplots.AxesSubplot at 0x2a9050f1fd0>"
      ]
     },
     "execution_count": 49,
     "metadata": {},
     "output_type": "execute_result"
    },
    {
     "data": {
      "image/png": "[encoded data removed]",
      "text/plain": [
       "<matplotlib.figure.Figure at 0x2a906293d68>"
      ]
     },
     "metadata": {},
     "output_type": "display_data"
    }
   ],
   "source": [
    "print(\"Confusion Matrix of test set:\")\n",
    "skplt.plot_confusion_matrix(y_test ,brute_pred)"
   ]
  },
  {
   "cell_type": "code",
   "execution_count": 50,
   "metadata": {},
   "outputs": [
    {
     "name": "stdout",
     "output_type": "stream",
     "text": [
      "Accuracy on test set: 84.429%\n",
      "Precision on test set: 0.845\n",
      "Recall on test set: 0.999\n",
      "F1-Score on test set: 0.915\n"
     ]
    }
   ],
   "source": [
    "print(\"Accuracy on test set: %0.3f%%\"%(accuracy_score(y_test, brute_pred)*100))\n",
    "print(\"Precision on test set: %0.3f\"%(precision_score(y_test, brute_pred)))\n",
    "print(\"Recall on test set: %0.3f\"%(recall_score(y_test, brute_pred)))\n",
    "print(\"F1-Score on test set: %0.3f\"%(f1_score(y_test, brute_pred)))"
   ]
  },
  {
   "cell_type": "code",
   "execution_count": 51,
   "metadata": {
    "scrolled": true
   },
   "outputs": [
    {
     "name": "stdout",
     "output_type": "stream",
     "text": [
      "Confusion Matrix of test set:\n"
     ]
    },
    {
     "data": {
      "text/plain": [
       "<matplotlib.axes._subplots.AxesSubplot at 0x2a9050c0be0>"
      ]
     },
     "execution_count": 51,
     "metadata": {},
     "output_type": "execute_result"
    },
    {
     "data": {
      "image/png": "[encoded data removed]",
      "text/plain": [
       "<matplotlib.figure.Figure at 0x2a90462f630>"
      ]
     },
     "metadata": {},
     "output_type": "display_data"
    }
   ],
   "source": [
    "print(\"Confusion Matrix of test set:\")\n",
    "skplt.plot_confusion_matrix(y_test ,kd_pred)"
   ]
  },
  {
   "cell_type": "code",
   "execution_count": 52,
   "metadata": {},
   "outputs": [
    {
     "name": "stdout",
     "output_type": "stream",
     "text": [
      "Accuracy on test set: 84.429%\n",
      "Precision on test set: 0.845\n",
      "Recall on test set: 0.999\n",
      "F1-Score on test set: 0.915\n"
     ]
    }
   ],
   "source": [
    "print(\"Accuracy on test set: %0.3f%%\"%(accuracy_score(y_test, kd_pred)*100))\n",
    "print(\"Precision on test set: %0.3f\"%(precision_score(y_test, kd_pred)))\n",
    "print(\"Recall on test set: %0.3f\"%(recall_score(y_test, kd_pred)))\n",
    "print(\"F1-Score on test set: %0.3f\"%(f1_score(y_test, kd_pred)))"
   ]
  },
  {
   "cell_type": "markdown",
   "metadata": {},
   "source": [
    "# Conclusion:\n",
    "For 12k datapoints, bag of words works the best using 5 nearest neighbours with an accuracy of 85.48.\n",
    "Irrespective of the method used to convert text to vector, KD-tree and brute force method both give the same results.\n",
    "TF-IDF provided an accuracy of 85.33%"
   ]
  },
  {
   "cell_type": "code",
   "execution_count": null,
   "metadata": {},
   "outputs": [],
   "source": []
  }
 ],
 "metadata": {
  "kernelspec": {
   "display_name": "Python 3",
   "language": "python",
   "name": "python3"
  },
  "language_info": {
   "codemirror_mode": {
    "name": "ipython",
    "version": 3
   },
   "file_extension": ".py",
   "mimetype": "text/x-python",
   "name": "python",
   "nbconvert_exporter": "python",
   "pygments_lexer": "ipython3",
   "version": "3.6.4"
  }
 },
 "nbformat": 4,
 "nbformat_minor": 2
}
