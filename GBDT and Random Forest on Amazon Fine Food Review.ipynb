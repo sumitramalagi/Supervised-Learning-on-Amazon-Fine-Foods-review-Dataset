{
 "cells": [
  {
   "cell_type": "markdown",
   "metadata": {},
   "source": [
    "GBDT and Random Forest are machine learning algorithm that can be used to predict polarity of reviews in amazon fine foods dataset obtained from kaggle. (https://www.kaggle.com/snap/amazon-fine-food-reviews) \n",
    "\n",
    "In this ipython notebook,following steps are performed:\n",
    "    1. Load cleaned data \n",
    "    2. Sample data\n",
    "    3. Convert text to vector using one of the following methods\n",
    "        a.bag of words\n",
    "        b.tf-idf\n",
    "        c.average word2vec\n",
    "        d.tf-idf word2vec\n",
    "    4. Use GBDT and Random Forest to predict polarity\n",
    "    5. Performance measurement\n",
    "        a. accuracy\n",
    "        b. confusion matrix\n",
    "        c. presicion, recall and f1-score"
   ]
  },
  {
   "cell_type": "markdown",
   "metadata": {},
   "source": [
    "1. Load cleaned Data"
   ]
  },
  {
   "cell_type": "code",
   "execution_count": 1,
   "metadata": {},
   "outputs": [],
   "source": [
    "%matplotlib inline\n",
    "\n",
    "import sqlite3\n",
    "import pandas as pd\n",
    "import numpy as np\n",
    "import nltk\n",
    "import string\n",
    "import matplotlib.pyplot as plt\n",
    "import seaborn as sns\n",
    "import warnings\n",
    "warnings.filterwarnings(\"ignore\")\n",
    "warnings.filterwarnings(\"ignore\", category=DeprecationWarning) \n",
    "\n",
    "\n",
    "#Using sqlite3 to retrieve data from sqlite file\n",
    "con = sqlite3.connect(r'C:\\Users\\Admin\\Downloads\\final.sqlite')\n",
    "\n",
    "#Read data from the sqlite file\n",
    "data = pd.read_sql_query(\"\"\"\n",
    "SELECT * FROM Reviews \n",
    "\"\"\",con)\n"
   ]
  },
  {
   "cell_type": "markdown",
   "metadata": {},
   "source": [
    "2.Randomly sample data"
   ]
  },
  {
   "cell_type": "code",
   "execution_count": 2,
   "metadata": {},
   "outputs": [],
   "source": [
    "data.sort_values('Time',inplace=True,ascending=False)\n",
    "sampled_data=data[:12000]"
   ]
  },
  {
   "cell_type": "code",
   "execution_count": 3,
   "metadata": {},
   "outputs": [],
   "source": [
    "#We use 70% of data for training and 30% of data for test\n",
    "import math\n",
    "sampled_data.sort_values('Time',inplace=True,ascending=True) \n",
    "\n",
    "X_train =  sampled_data[:math.ceil(len(sampled_data)*.7)] \n",
    "X_test = sampled_data[math.ceil(len(sampled_data)*.3):]\n",
    "y_train = sampled_data['Score'][:math.ceil(len(sampled_data)*.7)]\n",
    "y_test =  sampled_data['Score'][math.ceil(len(sampled_data)*.3):]"
   ]
  },
  {
   "cell_type": "markdown",
   "metadata": {},
   "source": [
    "3.Convert to vector"
   ]
  },
  {
   "cell_type": "markdown",
   "metadata": {},
   "source": [
    "Bag of Words"
   ]
  },
  {
   "cell_type": "code",
   "execution_count": 4,
   "metadata": {},
   "outputs": [],
   "source": [
    "from sklearn.feature_extraction.text import CountVectorizer\n",
    "\n",
    "count_vect = CountVectorizer() \n",
    "bow_model = count_vect.fit(X_train['CleanedText'])\n",
    "final_bow_train = bow_model.transform(X_train['CleanedText'])\n",
    "final_bow_test = bow_model.transform(X_test['CleanedText'])"
   ]
  },
  {
   "cell_type": "markdown",
   "metadata": {},
   "source": [
    "Find optimal alpha and gamma"
   ]
  },
  {
   "cell_type": "markdown",
   "metadata": {},
   "source": [
    "Grid Search"
   ]
  },
  {
   "cell_type": "code",
   "execution_count": 5,
   "metadata": {
    "scrolled": false
   },
   "outputs": [
    {
     "name": "stdout",
     "output_type": "stream",
     "text": [
      "best depth =  {'learning_rate': 0.7, 'max_depth': 5, 'n_estimators': 19}\n"
     ]
    }
   ],
   "source": [
    "from xgboost import XGBClassifier\n",
    "from sklearn.model_selection import GridSearchCV\n",
    "base_ln = [x for x in range(1, 21)]\n",
    "learning_rate = [x/10 for x in range(1,11)]\n",
    "depth = [x for x in range(1,6)]\n",
    "xgb = XGBClassifier(booster='gbtree', )\n",
    "paramgrid = {'n_estimators': base_ln, 'learning_rate': learning_rate, 'max_depth': depth}\n",
    "grid = GridSearchCV(estimator = xgb,param_grid=paramgrid ,cv = 3,n_jobs = 3)\n",
    "grid.fit(final_bow_train, y_train)\n",
    "print(\"best depth = \", grid.best_params_)\n",
    "optimal_depth= grid.best_params_"
   ]
  },
  {
   "cell_type": "code",
   "execution_count": 6,
   "metadata": {},
   "outputs": [],
   "source": [
    "classifier = XGBClassifier(booster='gbtree',max_depth=optimal_depth.get('max_depth'),learning_rate=optimal_depth.get('learning_rate'),n_estimators=optimal_depth.get('n_estimators'))"
   ]
  },
  {
   "cell_type": "code",
   "execution_count": 7,
   "metadata": {},
   "outputs": [],
   "source": [
    "classifier.fit(final_bow_train,y_train)\n",
    "predicted = classifier.predict(final_bow_test)"
   ]
  },
  {
   "cell_type": "code",
   "execution_count": 8,
   "metadata": {},
   "outputs": [
    {
     "data": {
      "text/plain": [
       "<matplotlib.axes._subplots.AxesSubplot at 0x25455dfeb00>"
      ]
     },
     "execution_count": 8,
     "metadata": {},
     "output_type": "execute_result"
    },
    {
     "data": {
      "image/png": "[encoded data removed]",
      "text/plain": [
       "<matplotlib.figure.Figure at 0x2544fe01a90>"
      ]
     },
     "metadata": {},
     "output_type": "display_data"
    }
   ],
   "source": [
    "import scikitplot.metrics as skplt\n",
    "skplt.plot_confusion_matrix(y_test ,predicted)"
   ]
  },
  {
   "cell_type": "code",
   "execution_count": 9,
   "metadata": {},
   "outputs": [],
   "source": [
    "from sklearn.metrics import confusion_matrix\n",
    "from sklearn.metrics import precision_score\n",
    "from sklearn.metrics import f1_score\n",
    "from sklearn.metrics import recall_score\n",
    "from sklearn.metrics import accuracy_score"
   ]
  },
  {
   "cell_type": "code",
   "execution_count": 10,
   "metadata": {
    "scrolled": false
   },
   "outputs": [
    {
     "name": "stdout",
     "output_type": "stream",
     "text": [
      "Accuracy on test set: 90.881%\n",
      "Precision on test set: 0.914\n",
      "Recall on test set: 0.984\n",
      "F1-Score on test set: 0.948\n"
     ]
    }
   ],
   "source": [
    "print(\"Accuracy on test set: %0.3f%%\"%(accuracy_score(y_test, predicted)*100))\n",
    "print(\"Precision on test set: %0.3f\"%(precision_score(y_test, predicted)))\n",
    "print(\"Recall on test set: %0.3f\"%(recall_score(y_test, predicted)))\n",
    "print(\"F1-Score on test set: %0.3f\"%(f1_score(y_test, predicted)))"
   ]
  },
  {
   "cell_type": "markdown",
   "metadata": {},
   "source": [
    "Random Forest"
   ]
  },
  {
   "cell_type": "code",
   "execution_count": 11,
   "metadata": {},
   "outputs": [
    {
     "name": "stdout",
     "output_type": "stream",
     "text": [
      "best depth =  {'max_depth': 1, 'n_estimators': 1}\n"
     ]
    }
   ],
   "source": [
    "from sklearn.ensemble import RandomForestClassifier\n",
    "rfc = RandomForestClassifier()\n",
    "base_ln = [x for x in range(1, 21)]\n",
    "depth = [x for x in range(1,6)]\n",
    "param={'n_estimators': base_ln, 'max_depth': depth}\n",
    "grid = GridSearchCV(estimator = rfc,param_grid=param ,cv = 3,n_jobs = 3)\n",
    "grid.fit(final_bow_train, y_train)\n",
    "print(\"best depth = \", grid.best_params_)\n",
    "optimal_depth = grid.best_params_"
   ]
  },
  {
   "cell_type": "code",
   "execution_count": 12,
   "metadata": {},
   "outputs": [],
   "source": [
    "classifier = RandomForestClassifier(max_depth=optimal_depth.get('max_depth'),n_estimators=optimal_depth.get('n_estimators'))"
   ]
  },
  {
   "cell_type": "code",
   "execution_count": 13,
   "metadata": {},
   "outputs": [],
   "source": [
    "classifier.fit(final_bow_train,y_train)\n",
    "predicted = classifier.predict(final_bow_test)"
   ]
  },
  {
   "cell_type": "code",
   "execution_count": 14,
   "metadata": {},
   "outputs": [
    {
     "data": {
      "text/plain": [
       "<matplotlib.axes._subplots.AxesSubplot at 0x2544fe019b0>"
      ]
     },
     "execution_count": 14,
     "metadata": {},
     "output_type": "execute_result"
    },
    {
     "data": {
      "image/png": "[encoded data removed]",
      "text/plain": [
       "<matplotlib.figure.Figure at 0x2544fe016a0>"
      ]
     },
     "metadata": {},
     "output_type": "display_data"
    }
   ],
   "source": [
    "import scikitplot.metrics as skplt\n",
    "skplt.plot_confusion_matrix(y_test ,predicted)"
   ]
  },
  {
   "cell_type": "code",
   "execution_count": 15,
   "metadata": {},
   "outputs": [
    {
     "name": "stdout",
     "output_type": "stream",
     "text": [
      "Accuracy on test set: 84.238%\n",
      "Precision on test set: 0.843\n",
      "Recall on test set: 0.999\n",
      "F1-Score on test set: 0.914\n"
     ]
    }
   ],
   "source": [
    "print(\"Accuracy on test set: %0.3f%%\"%(accuracy_score(y_test, predicted)*100))\n",
    "print(\"Precision on test set: %0.3f\"%(precision_score(y_test, predicted)))\n",
    "print(\"Recall on test set: %0.3f\"%(recall_score(y_test, predicted)))\n",
    "print(\"F1-Score on test set: %0.3f\"%(f1_score(y_test, predicted)))"
   ]
  },
  {
   "cell_type": "markdown",
   "metadata": {},
   "source": [
    "TF-IDF "
   ]
  },
  {
   "cell_type": "code",
   "execution_count": 16,
   "metadata": {},
   "outputs": [],
   "source": [
    "from sklearn.feature_extraction.text import TfidfTransformer\n",
    "from sklearn.feature_extraction.text import TfidfVectorizer\n",
    "\n",
    "tf_idf_vec = TfidfVectorizer()\n",
    "tfidf_model = tf_idf_vec.fit(X_train['CleanedText'])\n",
    "final_tfidf_train = tfidf_model.transform(X_train['CleanedText'])\n",
    "final_tfidf_test = tfidf_model.transform(X_test['CleanedText'])"
   ]
  },
  {
   "cell_type": "code",
   "execution_count": 17,
   "metadata": {},
   "outputs": [],
   "source": [
    "from sklearn.preprocessing import StandardScaler\n",
    "normalised_tfidf_train = StandardScaler(with_mean=False).fit_transform(final_tfidf_train)\n",
    "normalised_tfidf_test = StandardScaler(with_mean=False).fit_transform(final_tfidf_test)"
   ]
  },
  {
   "cell_type": "code",
   "execution_count": 18,
   "metadata": {},
   "outputs": [
    {
     "name": "stdout",
     "output_type": "stream",
     "text": [
      "best depth =  {'learning_rate': 0.6, 'max_depth': 5, 'n_estimators': 17}\n"
     ]
    }
   ],
   "source": [
    "base_ln = [x for x in range(1, 21)]\n",
    "learning_rate = [x/10 for x in range(1,11)]\n",
    "depth = [x for x in range(1,6)]\n",
    "xgb = XGBClassifier(booster='gbtree', )\n",
    "paramgrid = {'n_estimators': base_ln, 'learning_rate': learning_rate, 'max_depth': depth}\n",
    "grid = GridSearchCV(estimator = xgb,param_grid=paramgrid ,cv = 3,n_jobs = 3)\n",
    "grid.fit(normalised_tfidf_train, y_train)\n",
    "print(\"best depth = \", grid.best_params_)\n",
    "optimal_depth= grid.best_params_"
   ]
  },
  {
   "cell_type": "code",
   "execution_count": 19,
   "metadata": {},
   "outputs": [],
   "source": [
    "classifier = XGBClassifier(booster='gbtree',max_depth=optimal_depth.get('max_depth'),learning_rate=optimal_depth.get('learning_rate'),n_estimators=optimal_depth.get('n_estimators'))\n",
    "classifier.fit(normalised_tfidf_train,y_train)\n",
    "predicted = classifier.predict(normalised_tfidf_test)"
   ]
  },
  {
   "cell_type": "code",
   "execution_count": 20,
   "metadata": {},
   "outputs": [
    {
     "data": {
      "text/plain": [
       "<matplotlib.axes._subplots.AxesSubplot at 0x25455d197f0>"
      ]
     },
     "execution_count": 20,
     "metadata": {},
     "output_type": "execute_result"
    },
    {
     "data": {
      "image/png": "[encoded data removed]",
      "text/plain": [
       "<matplotlib.figure.Figure at 0x2544c389be0>"
      ]
     },
     "metadata": {},
     "output_type": "display_data"
    }
   ],
   "source": [
    "skplt.plot_confusion_matrix(y_test ,predicted)"
   ]
  },
  {
   "cell_type": "code",
   "execution_count": 21,
   "metadata": {},
   "outputs": [
    {
     "name": "stdout",
     "output_type": "stream",
     "text": [
      "Accuracy on test set: 90.083%\n",
      "Precision on test set: 0.905\n",
      "Recall on test set: 0.985\n",
      "F1-Score on test set: 0.944\n"
     ]
    }
   ],
   "source": [
    "print(\"Accuracy on test set: %0.3f%%\"%(accuracy_score(y_test, predicted)*100))\n",
    "print(\"Precision on test set: %0.3f\"%(precision_score(y_test, predicted)))\n",
    "print(\"Recall on test set: %0.3f\"%(recall_score(y_test, predicted)))\n",
    "print(\"F1-Score on test set: %0.3f\"%(f1_score(y_test, predicted)))"
   ]
  },
  {
   "cell_type": "code",
   "execution_count": 22,
   "metadata": {},
   "outputs": [
    {
     "name": "stdout",
     "output_type": "stream",
     "text": [
      "best depth =  {'max_depth': 1, 'n_estimators': 3}\n"
     ]
    }
   ],
   "source": [
    "base_ln = [x for x in range(1, 21)]\n",
    "depth = [x for x in range(1,6)]\n",
    "param={'n_estimators': base_ln, 'max_depth': depth}\n",
    "grid = GridSearchCV(estimator = rfc,param_grid=param ,cv = 3,n_jobs = 3)\n",
    "grid.fit(normalised_tfidf_test, y_train)\n",
    "print(\"best depth = \", grid.best_params_)\n",
    "optimal_depth = grid.best_params_"
   ]
  },
  {
   "cell_type": "code",
   "execution_count": 23,
   "metadata": {},
   "outputs": [],
   "source": [
    "classifier = RandomForestClassifier(max_depth=optimal_depth.get('max_depth'),n_estimators=optimal_depth.get('n_estimators'))\n",
    "classifier.fit(normalised_tfidf_train,y_train)\n",
    "predicted = classifier.predict(normalised_tfidf_test)"
   ]
  },
  {
   "cell_type": "code",
   "execution_count": 24,
   "metadata": {},
   "outputs": [
    {
     "data": {
      "text/plain": [
       "<matplotlib.axes._subplots.AxesSubplot at 0x2544a327278>"
      ]
     },
     "execution_count": 24,
     "metadata": {},
     "output_type": "execute_result"
    },
    {
     "data": {
      "image/png": "[encoded data removed]",
      "text/plain": [
       "<matplotlib.figure.Figure at 0x25455b5e438>"
      ]
     },
     "metadata": {},
     "output_type": "display_data"
    }
   ],
   "source": [
    "skplt.plot_confusion_matrix(y_test ,predicted)"
   ]
  },
  {
   "cell_type": "code",
   "execution_count": 25,
   "metadata": {},
   "outputs": [
    {
     "name": "stdout",
     "output_type": "stream",
     "text": [
      "Accuracy on test set: 84.214%\n",
      "Precision on test set: 0.842\n",
      "Recall on test set: 1.000\n",
      "F1-Score on test set: 0.914\n"
     ]
    }
   ],
   "source": [
    "print(\"Accuracy on test set: %0.3f%%\"%(accuracy_score(y_test, predicted)*100))\n",
    "print(\"Precision on test set: %0.3f\"%(precision_score(y_test, predicted)))\n",
    "print(\"Recall on test set: %0.3f\"%(recall_score(y_test, predicted)))\n",
    "print(\"F1-Score on test set: %0.3f\"%(f1_score(y_test, predicted)))"
   ]
  },
  {
   "cell_type": "markdown",
   "metadata": {},
   "source": [
    "Average word2vec"
   ]
  },
  {
   "cell_type": "code",
   "execution_count": 26,
   "metadata": {},
   "outputs": [],
   "source": [
    "from gensim.models import Word2Vec\n",
    "from gensim.models import KeyedVectors\n",
    "import pickle\n",
    "import gensim"
   ]
  },
  {
   "cell_type": "code",
   "execution_count": 27,
   "metadata": {},
   "outputs": [],
   "source": [
    "import re\n",
    "# Tutorial about Python regular expressions: https://pymotw.com/2/re/\n",
    "import string\n",
    "import nltk\n",
    "from nltk.corpus import stopwords\n",
    "\n",
    "stop = set(stopwords.words('english')) #set of stopwords\n",
    "def cleanhtml(sentence): #function to clean the word of any html-tags\n",
    "    cleanr = re.compile('<.*?>')\n",
    "    cleantext = re.sub(cleanr, ' ', sentence)\n",
    "    return cleantext\n",
    "def cleanpunc(sentence): #function to clean the word of any punctuation or special characters\n",
    "    cleaned = re.sub(r'[?|!|\\'|\"|#]',r'',sentence)\n",
    "    cleaned = re.sub(r'[.|,|)|(|\\|/]',r' ',cleaned)\n",
    "    return  cleaned"
   ]
  },
  {
   "cell_type": "code",
   "execution_count": 28,
   "metadata": {},
   "outputs": [],
   "source": [
    "i=0\n",
    "str1=''\n",
    "list_of_sent_train=[]\n",
    "final_string_for_tfidf_train = []\n",
    "for sent in X_train['Text'].values:\n",
    "    filtered_sentence=[]\n",
    "    sent=cleanhtml(sent)\n",
    "    str1 = ''\n",
    "    for w in sent.split():\n",
    "        for cleaned_words in cleanpunc(w).split():\n",
    "            if((cleaned_words.isalpha()) & (cleaned_words.lower() not in stop)):    \n",
    "                filtered_sentence.append(cleaned_words.lower())\n",
    "                str1 += \" \"+cleaned_words.lower() \n",
    "            else:\n",
    "                continue\n",
    "  \n",
    "    list_of_sent_train.append(filtered_sentence)\n",
    "    final_string_for_tfidf_train.append((str1).strip())"
   ]
  },
  {
   "cell_type": "code",
   "execution_count": 29,
   "metadata": {},
   "outputs": [],
   "source": [
    "i=0\n",
    "str1=''\n",
    "list_of_sent=[]\n",
    "final_string_for_tfidf = []\n",
    "for sent in sampled_data['Text'].values:\n",
    "    filtered_sentence=[]\n",
    "    sent=cleanhtml(sent)\n",
    "    str1 = ''\n",
    "    for w in sent.split():\n",
    "        for cleaned_words in cleanpunc(w).split():\n",
    "            if((cleaned_words.isalpha()) & (cleaned_words.lower() not in stop)):    \n",
    "                filtered_sentence.append(cleaned_words.lower())\n",
    "                str1 += \" \"+cleaned_words.lower() \n",
    "            else:\n",
    "                continue\n",
    "  \n",
    "    list_of_sent.append(filtered_sentence)\n",
    "    final_string_for_tfidf.append((str1).strip())"
   ]
  },
  {
   "cell_type": "code",
   "execution_count": 30,
   "metadata": {},
   "outputs": [],
   "source": [
    "w2v_model=gensim.models.Word2Vec(list_of_sent_train,min_count=5,size=50, workers=2)"
   ]
  },
  {
   "cell_type": "code",
   "execution_count": 31,
   "metadata": {},
   "outputs": [],
   "source": [
    "sent_vectors = []; \n",
    "for sent in list_of_sent: \n",
    "    sent_vec = np.zeros(50)\n",
    "    cnt_words =0; \n",
    "    for word in sent: \n",
    "        try:\n",
    "            vec = w2v_model.wv[word]\n",
    "            sent_vec += vec\n",
    "            cnt_words += 1\n",
    "        except:\n",
    "            pass\n",
    "    sent_vec /= cnt_words\n",
    "    sent_vectors.append(sent_vec)"
   ]
  },
  {
   "cell_type": "code",
   "execution_count": 32,
   "metadata": {},
   "outputs": [],
   "source": [
    "X_train = sent_vectors[:math.ceil(len(sampled_data)*.7)]  #final_w2v_count\n",
    "X_test = sent_vectors[math.ceil(len(sampled_data)*.3):] #final_w2v_count"
   ]
  },
  {
   "cell_type": "code",
   "execution_count": 33,
   "metadata": {},
   "outputs": [],
   "source": [
    "X_train=np.nan_to_num(X_train)\n",
    "X_test=np.nan_to_num(X_test)"
   ]
  },
  {
   "cell_type": "code",
   "execution_count": 34,
   "metadata": {},
   "outputs": [],
   "source": [
    "normalised_w2v_train = StandardScaler(with_mean=False).fit_transform(X_train)\n",
    "normalised_w2v_test = StandardScaler(with_mean=False).fit_transform(X_test)"
   ]
  },
  {
   "cell_type": "code",
   "execution_count": 35,
   "metadata": {},
   "outputs": [
    {
     "name": "stdout",
     "output_type": "stream",
     "text": [
      "best depth =  {'learning_rate': 0.3, 'max_depth': 4, 'n_estimators': 20}\n"
     ]
    }
   ],
   "source": [
    "grid = GridSearchCV(estimator = xgb,param_grid=paramgrid ,cv = 3,n_jobs = 3)\n",
    "grid.fit(np.array(normalised_w2v_train), y_train)\n",
    "print(\"best depth = \", grid.best_params_)\n",
    "optimal_depth= grid.best_params_"
   ]
  },
  {
   "cell_type": "code",
   "execution_count": 36,
   "metadata": {},
   "outputs": [],
   "source": [
    "classifier = XGBClassifier(booster='gbtree',max_depth=optimal_depth.get('max_depth'),learning_rate=optimal_depth.get('learning_rate'),n_estimators=optimal_depth.get('n_estimators'))\n",
    "classifier.fit(normalised_w2v_train,y_train)\n",
    "\n",
    "predicted = classifier.predict(normalised_w2v_test)"
   ]
  },
  {
   "cell_type": "code",
   "execution_count": 37,
   "metadata": {},
   "outputs": [
    {
     "data": {
      "text/plain": [
       "<matplotlib.axes._subplots.AxesSubplot at 0x254754ad518>"
      ]
     },
     "execution_count": 37,
     "metadata": {},
     "output_type": "execute_result"
    },
    {
     "data": {
      "image/png": "[encoded data removed]",
      "text/plain": [
       "<matplotlib.figure.Figure at 0x2544298d0b8>"
      ]
     },
     "metadata": {},
     "output_type": "display_data"
    }
   ],
   "source": [
    "skplt.plot_confusion_matrix(y_test ,predicted)"
   ]
  },
  {
   "cell_type": "code",
   "execution_count": 38,
   "metadata": {},
   "outputs": [
    {
     "name": "stdout",
     "output_type": "stream",
     "text": [
      "Accuracy on test set: 86.048%\n",
      "Precision on test set: 0.866\n",
      "Recall on test set: 0.986\n",
      "F1-Score on test set: 0.923\n"
     ]
    }
   ],
   "source": [
    "print(\"Accuracy on test set: %0.3f%%\"%(accuracy_score(y_test, predicted)*100))\n",
    "print(\"Precision on test set: %0.3f\"%(precision_score(y_test, predicted)))\n",
    "print(\"Recall on test set: %0.3f\"%(recall_score(y_test, predicted)))\n",
    "print(\"F1-Score on test set: %0.3f\"%(f1_score(y_test, predicted)))"
   ]
  },
  {
   "cell_type": "code",
   "execution_count": 39,
   "metadata": {},
   "outputs": [
    {
     "name": "stdout",
     "output_type": "stream",
     "text": [
      "best alpha =  {'n_estimators': 11, 'max_depth': 5, 'learning_rate': 0.3}\n"
     ]
    }
   ],
   "source": [
    "from sklearn.model_selection import RandomizedSearchCV\n",
    "rand = RandomizedSearchCV(estimator = xgb,param_distributions=paramgrid ,cv = 4,n_jobs = 3)\n",
    "rand.fit(normalised_w2v_train, y_train)\n",
    "optimal_alpha = rand.best_params_\n",
    "print(\"best alpha = \", optimal_alpha)"
   ]
  },
  {
   "cell_type": "code",
   "execution_count": 40,
   "metadata": {},
   "outputs": [],
   "source": [
    "classifier = XGBClassifier(booster='gbtree',max_depth=optimal_alpha.get('max_depth'),learning_rate=optimal_alpha.get('learning_rate'),n_estimators=optimal_alpha.get('n_estimators'))\n",
    "classifier.fit(normalised_w2v_train,y_train)\n",
    "\n",
    "predicted = classifier.predict(normalised_w2v_test)"
   ]
  },
  {
   "cell_type": "code",
   "execution_count": 41,
   "metadata": {},
   "outputs": [
    {
     "data": {
      "text/plain": [
       "<matplotlib.axes._subplots.AxesSubplot at 0x2547655fa90>"
      ]
     },
     "execution_count": 41,
     "metadata": {},
     "output_type": "execute_result"
    },
    {
     "data": {
      "image/png": "[encoded data removed]",
      "text/plain": [
       "<matplotlib.figure.Figure at 0x25475164ef0>"
      ]
     },
     "metadata": {},
     "output_type": "display_data"
    }
   ],
   "source": [
    "skplt.plot_confusion_matrix(y_test ,predicted)"
   ]
  },
  {
   "cell_type": "code",
   "execution_count": 42,
   "metadata": {},
   "outputs": [
    {
     "name": "stdout",
     "output_type": "stream",
     "text": [
      "Accuracy on test set: 86.012%\n",
      "Precision on test set: 0.866\n",
      "Recall on test set: 0.987\n",
      "F1-Score on test set: 0.922\n"
     ]
    }
   ],
   "source": [
    "print(\"Accuracy on test set: %0.3f%%\"%(accuracy_score(y_test, predicted)*100))\n",
    "print(\"Precision on test set: %0.3f\"%(precision_score(y_test, predicted)))\n",
    "print(\"Recall on test set: %0.3f\"%(recall_score(y_test, predicted)))\n",
    "print(\"F1-Score on test set: %0.3f\"%(f1_score(y_test, predicted)))"
   ]
  },
  {
   "cell_type": "code",
   "execution_count": 43,
   "metadata": {},
   "outputs": [
    {
     "name": "stdout",
     "output_type": "stream",
     "text": [
      "best depth =  {'max_depth': 5, 'n_estimators': 9}\n"
     ]
    }
   ],
   "source": [
    "grid = GridSearchCV(estimator = rfc,param_grid=param ,cv = 3,n_jobs = 3)\n",
    "grid.fit(normalised_w2v_train, y_train)\n",
    "print(\"best depth = \", grid.best_params_)\n",
    "optimal_depth = grid.best_params_"
   ]
  },
  {
   "cell_type": "code",
   "execution_count": 44,
   "metadata": {},
   "outputs": [],
   "source": [
    "classifier = RandomForestClassifier(max_depth=optimal_depth.get('max_depth'),n_estimators=optimal_depth.get('n_estimators'))\n",
    "classifier.fit(normalised_w2v_train,y_train)\n",
    "predicted = classifier.predict(normalised_w2v_test)"
   ]
  },
  {
   "cell_type": "code",
   "execution_count": 45,
   "metadata": {},
   "outputs": [
    {
     "data": {
      "text/plain": [
       "<matplotlib.axes._subplots.AxesSubplot at 0x254754adf98>"
      ]
     },
     "execution_count": 45,
     "metadata": {},
     "output_type": "execute_result"
    },
    {
     "data": {
      "image/png": "[encoded data removed]",
      "text/plain": [
       "<matplotlib.figure.Figure at 0x2545196c5c0>"
      ]
     },
     "metadata": {},
     "output_type": "display_data"
    }
   ],
   "source": [
    "skplt.plot_confusion_matrix(y_test ,predicted)"
   ]
  },
  {
   "cell_type": "code",
   "execution_count": 46,
   "metadata": {},
   "outputs": [
    {
     "name": "stdout",
     "output_type": "stream",
     "text": [
      "Accuracy on test set: 84.512%\n",
      "Precision on test set: 0.846\n",
      "Recall on test set: 0.998\n",
      "F1-Score on test set: 0.916\n"
     ]
    }
   ],
   "source": [
    "print(\"Accuracy on test set: %0.3f%%\"%(accuracy_score(y_test, predicted)*100))\n",
    "print(\"Precision on test set: %0.3f\"%(precision_score(y_test, predicted)))\n",
    "print(\"Recall on test set: %0.3f\"%(recall_score(y_test, predicted)))\n",
    "print(\"F1-Score on test set: %0.3f\"%(f1_score(y_test, predicted)))"
   ]
  },
  {
   "cell_type": "markdown",
   "metadata": {},
   "source": [
    "TF-IDF Avg w2v"
   ]
  },
  {
   "cell_type": "code",
   "execution_count": 47,
   "metadata": {},
   "outputs": [],
   "source": [
    "tf_idf_w2v = TfidfVectorizer()\n",
    "tfidf_model = tf_idf_w2v.fit(final_string_for_tfidf_train)\n",
    "final_tfidf_w=tfidf_model.transform(final_string_for_tfidf)"
   ]
  },
  {
   "cell_type": "code",
   "execution_count": 48,
   "metadata": {},
   "outputs": [],
   "source": [
    "tfidf_feat = tf_idf_w2v.get_feature_names()\n",
    "\n",
    "\n",
    "tfidf_sent_vectors = [];\n",
    "row=0;\n",
    "for sent in list_of_sent:  \n",
    "    sent_vec = np.zeros(50) \n",
    "    weight_sum =0;\n",
    "    for word in sent:\n",
    "        try:\n",
    "            vec = w2v_model.wv[word]\n",
    "            tf_idf = final_tfidf_w[row, tfidf_feat.index(word)]\n",
    "            sent_vec += (vec * tf_idf)\n",
    "            weight_sum += tf_idf\n",
    "        except Exception as e: \n",
    "            pass #print(e)\n",
    "            \n",
    "    try:\n",
    "        sent_vec /= weight_sum\n",
    "    except:\n",
    "        print(e)\n",
    "        \n",
    "    tfidf_sent_vectors.append(sent_vec)\n",
    "    row += 1"
   ]
  },
  {
   "cell_type": "code",
   "execution_count": 49,
   "metadata": {},
   "outputs": [],
   "source": [
    "X_train = tfidf_sent_vectors[:math.ceil(len(sampled_data)*.7)]  #final_w2v_count\n",
    "X_test = tfidf_sent_vectors[math.ceil(len(sampled_data)*.3):] #final_w2v_count"
   ]
  },
  {
   "cell_type": "code",
   "execution_count": 50,
   "metadata": {},
   "outputs": [],
   "source": [
    "X_train=np.nan_to_num(X_train)\n",
    "X_test=np.nan_to_num(X_test)"
   ]
  },
  {
   "cell_type": "code",
   "execution_count": 51,
   "metadata": {},
   "outputs": [],
   "source": [
    "normalised_tfidf_train = StandardScaler(with_mean=False).fit_transform(X_train)\n",
    "normalised_tfidf_test = StandardScaler(with_mean=False).fit_transform(X_test)"
   ]
  },
  {
   "cell_type": "code",
   "execution_count": 52,
   "metadata": {},
   "outputs": [
    {
     "name": "stdout",
     "output_type": "stream",
     "text": [
      "best depth =  {'learning_rate': 0.3, 'max_depth': 4, 'n_estimators': 20}\n"
     ]
    }
   ],
   "source": [
    "grid = GridSearchCV(estimator = xgb,param_grid=paramgrid ,cv = 3,n_jobs = 3)\n",
    "grid.fit(np.array(normalised_w2v_train), y_train)\n",
    "print(\"best depth = \", grid.best_params_)\n",
    "optimal_depth= grid.best_params_"
   ]
  },
  {
   "cell_type": "code",
   "execution_count": 53,
   "metadata": {},
   "outputs": [],
   "source": [
    "classifier = XGBClassifier(booster='gbtree',max_depth=optimal_depth.get('max_depth'),learning_rate=optimal_depth.get('learning_rate'),n_estimators=optimal_depth.get('n_estimators'))\n",
    "\n",
    "classifier.fit(normalised_tfidf_train,y_train)\n",
    "\n",
    "predicted = classifier.predict(normalised_tfidf_test)"
   ]
  },
  {
   "cell_type": "code",
   "execution_count": 54,
   "metadata": {},
   "outputs": [
    {
     "data": {
      "text/plain": [
       "<matplotlib.axes._subplots.AxesSubplot at 0x254765dc080>"
      ]
     },
     "execution_count": 54,
     "metadata": {},
     "output_type": "execute_result"
    },
    {
     "data": {
      "image/png": "[encoded data removed]",
      "text/plain": [
       "<matplotlib.figure.Figure at 0x25450990518>"
      ]
     },
     "metadata": {},
     "output_type": "display_data"
    }
   ],
   "source": [
    "skplt.plot_confusion_matrix(y_test ,predicted)"
   ]
  },
  {
   "cell_type": "code",
   "execution_count": 55,
   "metadata": {},
   "outputs": [
    {
     "name": "stdout",
     "output_type": "stream",
     "text": [
      "Accuracy on test set: 85.488%\n",
      "Precision on test set: 0.860\n",
      "Recall on test set: 0.989\n",
      "F1-Score on test set: 0.920\n"
     ]
    }
   ],
   "source": [
    "print(\"Accuracy on test set: %0.3f%%\"%(accuracy_score(y_test, predicted)*100))\n",
    "print(\"Precision on test set: %0.3f\"%(precision_score(y_test, predicted)))\n",
    "print(\"Recall on test set: %0.3f\"%(recall_score(y_test, predicted)))\n",
    "print(\"F1-Score on test set: %0.3f\"%(f1_score(y_test, predicted)))"
   ]
  },
  {
   "cell_type": "code",
   "execution_count": 56,
   "metadata": {},
   "outputs": [
    {
     "name": "stdout",
     "output_type": "stream",
     "text": [
      "best alpha =  {'n_estimators': 19, 'max_depth': 1, 'learning_rate': 0.6}\n"
     ]
    }
   ],
   "source": [
    "rand = RandomizedSearchCV(estimator = xgb,param_distributions=paramgrid ,cv = 4,n_jobs = 3)\n",
    "rand.fit(normalised_tfidf_train, y_train)\n",
    "optimal_alpha = rand.best_params_\n",
    "print(\"best alpha = \", optimal_alpha)"
   ]
  },
  {
   "cell_type": "code",
   "execution_count": 57,
   "metadata": {},
   "outputs": [],
   "source": [
    "classifier = XGBClassifier(booster='gbtree',max_depth=optimal_alpha.get('max_depth'),learning_rate=optimal_alpha.get('learning_rate'),n_estimators=optimal_alpha.get('n_estimators'))\n",
    "\n",
    "classifier.fit(normalised_tfidf_train,y_train)\n",
    "\n",
    "predicted = classifier.predict(normalised_tfidf_test)"
   ]
  },
  {
   "cell_type": "code",
   "execution_count": 58,
   "metadata": {},
   "outputs": [
    {
     "data": {
      "text/plain": [
       "<matplotlib.axes._subplots.AxesSubplot at 0x25475cbfcf8>"
      ]
     },
     "execution_count": 58,
     "metadata": {},
     "output_type": "execute_result"
    },
    {
     "data": {
      "image/png": "[encoded data removed]",
      "text/plain": [
       "<matplotlib.figure.Figure at 0x25476624c18>"
      ]
     },
     "metadata": {},
     "output_type": "display_data"
    }
   ],
   "source": [
    "skplt.plot_confusion_matrix(y_test ,predicted)"
   ]
  },
  {
   "cell_type": "code",
   "execution_count": 59,
   "metadata": {},
   "outputs": [
    {
     "name": "stdout",
     "output_type": "stream",
     "text": [
      "Accuracy on test set: 84.417%\n",
      "Precision on test set: 0.846\n",
      "Recall on test set: 0.996\n",
      "F1-Score on test set: 0.915\n"
     ]
    }
   ],
   "source": [
    "print(\"Accuracy on test set: %0.3f%%\"%(accuracy_score(y_test, predicted)*100))\n",
    "print(\"Precision on test set: %0.3f\"%(precision_score(y_test, predicted)))\n",
    "print(\"Recall on test set: %0.3f\"%(recall_score(y_test, predicted)))\n",
    "print(\"F1-Score on test set: %0.3f\"%(f1_score(y_test, predicted)))"
   ]
  },
  {
   "cell_type": "code",
   "execution_count": 60,
   "metadata": {},
   "outputs": [
    {
     "name": "stdout",
     "output_type": "stream",
     "text": [
      "best depth =  {'max_depth': 5, 'n_estimators': 8}\n"
     ]
    }
   ],
   "source": [
    "grid = GridSearchCV(estimator = rfc,param_grid=param ,cv = 3,n_jobs = 3)\n",
    "grid.fit(normalised_tfidf_train, y_train)\n",
    "print(\"best depth = \", grid.best_params_)\n",
    "optimal_depth = grid.best_params_"
   ]
  },
  {
   "cell_type": "code",
   "execution_count": 61,
   "metadata": {},
   "outputs": [],
   "source": [
    "classifier = RandomForestClassifier(max_depth=optimal_depth.get('max_depth'),n_estimators=optimal_depth.get('n_estimators'))\n",
    "classifier.fit(normalised_tfidf_train,y_train)\n",
    "predicted = classifier.predict(normalised_tfidf_test)"
   ]
  },
  {
   "cell_type": "code",
   "execution_count": 62,
   "metadata": {},
   "outputs": [
    {
     "data": {
      "text/plain": [
       "<matplotlib.axes._subplots.AxesSubplot at 0x25466fcc710>"
      ]
     },
     "execution_count": 62,
     "metadata": {},
     "output_type": "execute_result"
    },
    {
     "data": {
      "image/png": "[encoded data removed]",
      "text/plain": [
       "<matplotlib.figure.Figure at 0x254765d3ba8>"
      ]
     },
     "metadata": {},
     "output_type": "display_data"
    }
   ],
   "source": [
    "skplt.plot_confusion_matrix(y_test ,predicted)"
   ]
  },
  {
   "cell_type": "code",
   "execution_count": 63,
   "metadata": {},
   "outputs": [
    {
     "name": "stdout",
     "output_type": "stream",
     "text": [
      "Accuracy on test set: 84.321%\n",
      "Precision on test set: 0.843\n",
      "Recall on test set: 1.000\n",
      "F1-Score on test set: 0.915\n"
     ]
    }
   ],
   "source": [
    "print(\"Accuracy on test set: %0.3f%%\"%(accuracy_score(y_test, predicted)*100))\n",
    "print(\"Precision on test set: %0.3f\"%(precision_score(y_test, predicted)))\n",
    "print(\"Recall on test set: %0.3f\"%(recall_score(y_test, predicted)))\n",
    "print(\"F1-Score on test set: %0.3f\"%(f1_score(y_test, predicted)))"
   ]
  },
  {
   "cell_type": "code",
   "execution_count": null,
   "metadata": {},
   "outputs": [],
   "source": []
  }
 ],
 "metadata": {
  "kernelspec": {
   "display_name": "Python 3",
   "language": "python",
   "name": "python3"
  },
  "language_info": {
   "codemirror_mode": {
    "name": "ipython",
    "version": 3
   },
   "file_extension": ".py",
   "mimetype": "text/x-python",
   "name": "python",
   "nbconvert_exporter": "python",
   "pygments_lexer": "ipython3",
   "version": "3.6.4"
  }
 },
 "nbformat": 4,
 "nbformat_minor": 2
}
